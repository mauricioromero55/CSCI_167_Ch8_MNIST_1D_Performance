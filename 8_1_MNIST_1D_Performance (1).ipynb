{
  "cells": [
    {
      "cell_type": "markdown",
      "metadata": {
        "id": "view-in-github"
      },
      "source": [
        "<a href=\"https://colab.research.google.com/github/udlbook/udlbook/blob/main/Notebooks/Chap08/8_1_MNIST_1D_Performance.ipynb\" target=\"_parent\"><img src=\"https://colab.research.google.com/assets/colab-badge.svg\" alt=\"Open In Colab\"/></a>"
      ]
    },
    {
      "cell_type": "markdown",
      "metadata": {
        "id": "L6chybAVFJW2"
      },
      "source": [
        "# **Notebook 8.1: MNIST_1D_Performance**\n",
        "\n",
        "This notebook runs a simple neural network on the MNIST1D dataset as in figure 8.2a. It uses code from https://github.com/greydanus/mnist1d to generate the data.\n",
        "\n",
        "Work through the cells below, running each cell in turn. In various places you will see the words \"TO DO\". Follow the instructions at these places and make predictions about what is going to happen or write code to complete the functions.\n",
        "\n",
        "Contact me at udlbookmail@gmail.com if you find any mistakes or have any suggestions."
      ]
    },
    {
      "cell_type": "code",
      "execution_count": 2,
      "metadata": {
        "id": "ifVjS4cTOqKz",
        "colab": {
          "base_uri": "https://localhost:8080/"
        },
        "outputId": "f3a93476-01e0-40e1-d4f6-15508446d2c6"
      },
      "outputs": [
        {
          "output_type": "stream",
          "name": "stdout",
          "text": [
            "Collecting git+https://github.com/greydanus/mnist1d\n",
            "  Cloning https://github.com/greydanus/mnist1d to /tmp/pip-req-build-0n1vlxe0\n",
            "  Running command git clone --filter=blob:none --quiet https://github.com/greydanus/mnist1d /tmp/pip-req-build-0n1vlxe0\n",
            "  Resolved https://github.com/greydanus/mnist1d to commit 68cb6b2d1d3a956cc2e9035e5a9860b66e33d642\n",
            "  Installing build dependencies ... \u001b[?25l\u001b[?25hdone\n",
            "  Getting requirements to build wheel ... \u001b[?25l\u001b[?25hdone\n",
            "  Preparing metadata (pyproject.toml) ... \u001b[?25l\u001b[?25hdone\n",
            "Requirement already satisfied: requests in /usr/local/lib/python3.10/dist-packages (from mnist1d==0.0.2.post15) (2.32.3)\n",
            "Requirement already satisfied: numpy in /usr/local/lib/python3.10/dist-packages (from mnist1d==0.0.2.post15) (1.26.4)\n",
            "Requirement already satisfied: matplotlib in /usr/local/lib/python3.10/dist-packages (from mnist1d==0.0.2.post15) (3.7.1)\n",
            "Requirement already satisfied: scipy in /usr/local/lib/python3.10/dist-packages (from mnist1d==0.0.2.post15) (1.13.1)\n",
            "Requirement already satisfied: contourpy>=1.0.1 in /usr/local/lib/python3.10/dist-packages (from matplotlib->mnist1d==0.0.2.post15) (1.3.0)\n",
            "Requirement already satisfied: cycler>=0.10 in /usr/local/lib/python3.10/dist-packages (from matplotlib->mnist1d==0.0.2.post15) (0.12.1)\n",
            "Requirement already satisfied: fonttools>=4.22.0 in /usr/local/lib/python3.10/dist-packages (from matplotlib->mnist1d==0.0.2.post15) (4.54.1)\n",
            "Requirement already satisfied: kiwisolver>=1.0.1 in /usr/local/lib/python3.10/dist-packages (from matplotlib->mnist1d==0.0.2.post15) (1.4.7)\n",
            "Requirement already satisfied: packaging>=20.0 in /usr/local/lib/python3.10/dist-packages (from matplotlib->mnist1d==0.0.2.post15) (24.1)\n",
            "Requirement already satisfied: pillow>=6.2.0 in /usr/local/lib/python3.10/dist-packages (from matplotlib->mnist1d==0.0.2.post15) (10.4.0)\n",
            "Requirement already satisfied: pyparsing>=2.3.1 in /usr/local/lib/python3.10/dist-packages (from matplotlib->mnist1d==0.0.2.post15) (3.1.4)\n",
            "Requirement already satisfied: python-dateutil>=2.7 in /usr/local/lib/python3.10/dist-packages (from matplotlib->mnist1d==0.0.2.post15) (2.8.2)\n",
            "Requirement already satisfied: charset-normalizer<4,>=2 in /usr/local/lib/python3.10/dist-packages (from requests->mnist1d==0.0.2.post15) (3.3.2)\n",
            "Requirement already satisfied: idna<4,>=2.5 in /usr/local/lib/python3.10/dist-packages (from requests->mnist1d==0.0.2.post15) (3.10)\n",
            "Requirement already satisfied: urllib3<3,>=1.21.1 in /usr/local/lib/python3.10/dist-packages (from requests->mnist1d==0.0.2.post15) (2.2.3)\n",
            "Requirement already satisfied: certifi>=2017.4.17 in /usr/local/lib/python3.10/dist-packages (from requests->mnist1d==0.0.2.post15) (2024.8.30)\n",
            "Requirement already satisfied: six>=1.5 in /usr/local/lib/python3.10/dist-packages (from python-dateutil>=2.7->matplotlib->mnist1d==0.0.2.post15) (1.16.0)\n",
            "Building wheels for collected packages: mnist1d\n",
            "  Building wheel for mnist1d (pyproject.toml) ... \u001b[?25l\u001b[?25hdone\n",
            "  Created wheel for mnist1d: filename=mnist1d-0.0.2.post15-py3-none-any.whl size=14561 sha256=d1c73254d189388b2608d1e7edcca7a27c5b824d38b0c89438312e5bb3b9f289\n",
            "  Stored in directory: /tmp/pip-ephem-wheel-cache-_5o50n96/wheels/41/95/55/45fcf7d38cfa97e35682da6c5017d4513729131326ce935371\n",
            "Successfully built mnist1d\n",
            "Installing collected packages: mnist1d\n",
            "Successfully installed mnist1d-0.0.2.post15\n"
          ]
        }
      ],
      "source": [
        "# Run this if you're in a Colab to install MNIST 1D repository\n",
        "%pip install git+https://github.com/greydanus/mnist1d"
      ]
    },
    {
      "cell_type": "code",
      "execution_count": 3,
      "metadata": {
        "id": "qyE7G1StPIqO"
      },
      "outputs": [],
      "source": [
        "import torch, torch.nn as nn\n",
        "from torch.utils.data import TensorDataset, DataLoader\n",
        "from torch.optim.lr_scheduler import StepLR\n",
        "import numpy as np\n",
        "import matplotlib.pyplot as plt\n",
        "import mnist1d"
      ]
    },
    {
      "cell_type": "markdown",
      "metadata": {
        "id": "F7LNq72SP6jO"
      },
      "source": [
        "Let's generate a training and test dataset using the MNIST1D code.  The dataset gets saved as a .pkl file so it doesn't have to be regenerated each time."
      ]
    },
    {
      "cell_type": "code",
      "execution_count": 4,
      "metadata": {
        "id": "YLxf7dJfPaqw",
        "colab": {
          "base_uri": "https://localhost:8080/"
        },
        "outputId": "fff6d546-338f-46ad-ead1-7fff1911e458"
      },
      "outputs": [
        {
          "output_type": "stream",
          "name": "stdout",
          "text": [
            "Did or could not load data from ./mnist1d_data.pkl. Rebuilding dataset...\n",
            "Examples in training set: 4000\n",
            "Examples in test set: 1000\n",
            "Length of each example: 40\n"
          ]
        }
      ],
      "source": [
        "args = mnist1d.data.get_dataset_args()\n",
        "data = mnist1d.data.get_dataset(args, path='./mnist1d_data.pkl', download=False, regenerate=False)\n",
        "\n",
        "# The training and test input and outputs are in\n",
        "# data['x'], data['y'], data['x_test'], and data['y_test']\n",
        "print(\"Examples in training set: {}\".format(len(data['y'])))\n",
        "print(\"Examples in test set: {}\".format(len(data['y_test'])))\n",
        "print(\"Length of each example: {}\".format(data['x'].shape[-1]))"
      ]
    },
    {
      "cell_type": "code",
      "execution_count": 37,
      "metadata": {
        "id": "FxaB5vc0uevl",
        "colab": {
          "base_uri": "https://localhost:8080/"
        },
        "outputId": "613d7e3a-955b-4235-dad1-b55a55b2241d"
      },
      "outputs": [
        {
          "output_type": "stream",
          "name": "stdout",
          "text": [
            "Initializing layer\n",
            "Initializing layer\n",
            "Initializing layer\n",
            "Initializing layer\n",
            "Initializing layer\n",
            "Initializing layer\n",
            "Initializing layer\n",
            "Initializing layer\n"
          ]
        },
        {
          "output_type": "execute_result",
          "data": {
            "text/plain": [
              "Sequential(\n",
              "  (0): Linear(in_features=40, out_features=200, bias=True)\n",
              "  (1): ReLU()\n",
              "  (2): Linear(in_features=200, out_features=200, bias=True)\n",
              "  (3): ReLU()\n",
              "  (4): Linear(in_features=200, out_features=200, bias=True)\n",
              "  (5): ReLU()\n",
              "  (6): Linear(in_features=200, out_features=10, bias=True)\n",
              ")"
            ]
          },
          "metadata": {},
          "execution_count": 37
        }
      ],
      "source": [
        "D_i = 40    # Input dimensions\n",
        "D_k = 200   # Hidden dimensions\n",
        "D_o = 10    # Output dimensions\n",
        "# TO DO:\n",
        "# Define a model with two hidden layers of size 100\n",
        "# And ReLU activations between them\n",
        "# Replace this line (see Figure 7.8 of book for help):\n",
        "model = torch.nn.Sequential(\n",
        "          torch.nn.Linear(D_i, D_k),\n",
        "          torch.nn.ReLU(),\n",
        "          torch.nn.Linear(D_k, D_k),\n",
        "          torch.nn.ReLU(),\n",
        "          torch.nn.Linear(D_k, D_k),\n",
        "          torch.nn.ReLU(),\n",
        "          torch.nn.Linear(D_k, D_o));\n",
        "\n",
        "\n",
        "def weights_init(layer_in):\n",
        "  # TO DO:\n",
        "  # Initialize the parameters with He initialization\n",
        "  # Replace this line (see figure 7.8 of book for help)\n",
        "  print(\"Initializing layer\")\n",
        "  if isinstance(layer_in, nn.Linear):\n",
        "    nn.init.kaiming_normal_(layer_in.weight)\n",
        "    layer_in.bias.data.fill_(0.0)\n",
        "\n",
        "\n",
        "# Call the function you just defined\n",
        "model.apply(weights_init)\n"
      ]
    },
    {
      "cell_type": "code",
      "execution_count": 40,
      "metadata": {
        "id": "_rX6N3VyyQTY",
        "colab": {
          "base_uri": "https://localhost:8080/"
        },
        "outputId": "8f73db2e-a661-4026-dfd3-5d3fed214b3b"
      },
      "outputs": [
        {
          "output_type": "stream",
          "name": "stdout",
          "text": [
            "Initializing layer\n",
            "Initializing layer\n",
            "Initializing layer\n",
            "Initializing layer\n",
            "Initializing layer\n",
            "Initializing layer\n",
            "Initializing layer\n",
            "Initializing layer\n",
            "Epoch     0, train loss 1.500486, train error 60.10,  test loss 1.610138, test error 65.00\n",
            "Epoch     1, train loss 1.247950, train error 48.05,  test loss 1.386949, test error 54.80\n",
            "Epoch     2, train loss 1.095952, train error 42.20,  test loss 1.317320, test error 50.60\n",
            "Epoch     3, train loss 0.940427, train error 35.00,  test loss 1.272901, test error 48.90\n",
            "Epoch     4, train loss 0.839400, train error 31.07,  test loss 1.192170, test error 43.10\n",
            "Epoch     5, train loss 0.748256, train error 29.40,  test loss 1.091429, test error 40.90\n",
            "Epoch     6, train loss 0.674858, train error 24.72,  test loss 1.091530, test error 40.00\n",
            "Epoch     7, train loss 0.678919, train error 24.40,  test loss 1.214715, test error 40.90\n",
            "Epoch     8, train loss 0.565255, train error 20.18,  test loss 1.123389, test error 37.00\n",
            "Epoch     9, train loss 0.592431, train error 21.68,  test loss 1.252811, test error 39.50\n",
            "Epoch    10, train loss 0.223962, train error 7.30,  test loss 0.890142, test error 29.80\n",
            "Epoch    11, train loss 0.122851, train error 3.57,  test loss 0.889517, test error 26.40\n",
            "Epoch    12, train loss 0.083911, train error 2.80,  test loss 0.985054, test error 25.20\n",
            "Epoch    13, train loss 0.045881, train error 0.90,  test loss 0.962600, test error 25.20\n",
            "Epoch    14, train loss 0.020751, train error 0.18,  test loss 0.993329, test error 24.10\n",
            "Epoch    15, train loss 0.015929, train error 0.15,  test loss 1.059388, test error 24.40\n",
            "Epoch    16, train loss 0.012330, train error 0.22,  test loss 1.115167, test error 24.30\n",
            "Epoch    17, train loss 0.006607, train error 0.05,  test loss 1.127720, test error 23.90\n",
            "Epoch    18, train loss 0.003864, train error 0.00,  test loss 1.146814, test error 24.60\n",
            "Epoch    19, train loss 0.002897, train error 0.00,  test loss 1.179631, test error 23.90\n",
            "Epoch    20, train loss 0.002595, train error 0.00,  test loss 1.190120, test error 24.70\n",
            "Epoch    21, train loss 0.002405, train error 0.00,  test loss 1.197890, test error 24.40\n",
            "Epoch    22, train loss 0.002240, train error 0.00,  test loss 1.205671, test error 24.40\n",
            "Epoch    23, train loss 0.002100, train error 0.00,  test loss 1.211750, test error 24.60\n",
            "Epoch    24, train loss 0.001977, train error 0.00,  test loss 1.220034, test error 24.50\n",
            "Epoch    25, train loss 0.001870, train error 0.00,  test loss 1.227824, test error 24.50\n",
            "Epoch    26, train loss 0.001773, train error 0.00,  test loss 1.234814, test error 24.60\n",
            "Epoch    27, train loss 0.001685, train error 0.00,  test loss 1.241889, test error 24.70\n",
            "Epoch    28, train loss 0.001606, train error 0.00,  test loss 1.249077, test error 24.90\n",
            "Epoch    29, train loss 0.001534, train error 0.00,  test loss 1.254586, test error 24.80\n",
            "Epoch    30, train loss 0.001500, train error 0.00,  test loss 1.257442, test error 24.80\n",
            "Epoch    31, train loss 0.001468, train error 0.00,  test loss 1.260509, test error 24.80\n",
            "Epoch    32, train loss 0.001437, train error 0.00,  test loss 1.263331, test error 24.80\n",
            "Epoch    33, train loss 0.001408, train error 0.00,  test loss 1.266154, test error 24.60\n",
            "Epoch    34, train loss 0.001380, train error 0.00,  test loss 1.268553, test error 24.80\n",
            "Epoch    35, train loss 0.001354, train error 0.00,  test loss 1.271705, test error 24.70\n",
            "Epoch    36, train loss 0.001327, train error 0.00,  test loss 1.274194, test error 24.60\n",
            "Epoch    37, train loss 0.001302, train error 0.00,  test loss 1.276270, test error 24.60\n",
            "Epoch    38, train loss 0.001278, train error 0.00,  test loss 1.279464, test error 24.60\n",
            "Epoch    39, train loss 0.001254, train error 0.00,  test loss 1.281654, test error 24.70\n",
            "Epoch    40, train loss 0.001243, train error 0.00,  test loss 1.283075, test error 24.70\n",
            "Epoch    41, train loss 0.001232, train error 0.00,  test loss 1.284318, test error 24.70\n",
            "Epoch    42, train loss 0.001221, train error 0.00,  test loss 1.285552, test error 24.70\n",
            "Epoch    43, train loss 0.001211, train error 0.00,  test loss 1.286705, test error 24.70\n",
            "Epoch    44, train loss 0.001200, train error 0.00,  test loss 1.287983, test error 24.70\n",
            "Epoch    45, train loss 0.001190, train error 0.00,  test loss 1.289069, test error 24.70\n",
            "Epoch    46, train loss 0.001180, train error 0.00,  test loss 1.290509, test error 24.70\n",
            "Epoch    47, train loss 0.001170, train error 0.00,  test loss 1.291535, test error 24.60\n",
            "Epoch    48, train loss 0.001160, train error 0.00,  test loss 1.292449, test error 24.60\n",
            "Epoch    49, train loss 0.001150, train error 0.00,  test loss 1.293851, test error 24.60\n",
            "Epoch    50, train loss 0.001146, train error 0.00,  test loss 1.294438, test error 24.60\n",
            "Epoch    51, train loss 0.001141, train error 0.00,  test loss 1.294918, test error 24.70\n",
            "Epoch    52, train loss 0.001136, train error 0.00,  test loss 1.295500, test error 24.70\n",
            "Epoch    53, train loss 0.001131, train error 0.00,  test loss 1.296077, test error 24.60\n",
            "Epoch    54, train loss 0.001127, train error 0.00,  test loss 1.296599, test error 24.70\n",
            "Epoch    55, train loss 0.001122, train error 0.00,  test loss 1.297206, test error 24.60\n",
            "Epoch    56, train loss 0.001118, train error 0.00,  test loss 1.297593, test error 24.60\n",
            "Epoch    57, train loss 0.001113, train error 0.00,  test loss 1.298292, test error 24.70\n",
            "Epoch    58, train loss 0.001109, train error 0.00,  test loss 1.298833, test error 24.70\n",
            "Epoch    59, train loss 0.001104, train error 0.00,  test loss 1.299428, test error 24.60\n",
            "Epoch    60, train loss 0.001102, train error 0.00,  test loss 1.299738, test error 24.60\n",
            "Epoch    61, train loss 0.001100, train error 0.00,  test loss 1.299944, test error 24.70\n",
            "Epoch    62, train loss 0.001098, train error 0.00,  test loss 1.300235, test error 24.60\n",
            "Epoch    63, train loss 0.001096, train error 0.00,  test loss 1.300449, test error 24.60\n",
            "Epoch    64, train loss 0.001093, train error 0.00,  test loss 1.300716, test error 24.60\n",
            "Epoch    65, train loss 0.001091, train error 0.00,  test loss 1.301056, test error 24.60\n",
            "Epoch    66, train loss 0.001089, train error 0.00,  test loss 1.301283, test error 24.60\n",
            "Epoch    67, train loss 0.001087, train error 0.00,  test loss 1.301550, test error 24.60\n",
            "Epoch    68, train loss 0.001085, train error 0.00,  test loss 1.301841, test error 24.60\n",
            "Epoch    69, train loss 0.001083, train error 0.00,  test loss 1.302118, test error 24.60\n",
            "Epoch    70, train loss 0.001082, train error 0.00,  test loss 1.302253, test error 24.60\n",
            "Epoch    71, train loss 0.001081, train error 0.00,  test loss 1.302389, test error 24.60\n",
            "Epoch    72, train loss 0.001079, train error 0.00,  test loss 1.302521, test error 24.60\n",
            "Epoch    73, train loss 0.001078, train error 0.00,  test loss 1.302644, test error 24.60\n",
            "Epoch    74, train loss 0.001077, train error 0.00,  test loss 1.302828, test error 24.60\n",
            "Epoch    75, train loss 0.001076, train error 0.00,  test loss 1.302929, test error 24.60\n",
            "Epoch    76, train loss 0.001075, train error 0.00,  test loss 1.303072, test error 24.60\n",
            "Epoch    77, train loss 0.001074, train error 0.00,  test loss 1.303180, test error 24.60\n",
            "Epoch    78, train loss 0.001073, train error 0.00,  test loss 1.303357, test error 24.60\n",
            "Epoch    79, train loss 0.001072, train error 0.00,  test loss 1.303462, test error 24.60\n",
            "Epoch    80, train loss 0.001072, train error 0.00,  test loss 1.303533, test error 24.60\n",
            "Epoch    81, train loss 0.001071, train error 0.00,  test loss 1.303592, test error 24.60\n",
            "Epoch    82, train loss 0.001071, train error 0.00,  test loss 1.303658, test error 24.60\n",
            "Epoch    83, train loss 0.001070, train error 0.00,  test loss 1.303742, test error 24.60\n",
            "Epoch    84, train loss 0.001070, train error 0.00,  test loss 1.303807, test error 24.60\n",
            "Epoch    85, train loss 0.001069, train error 0.00,  test loss 1.303864, test error 24.60\n",
            "Epoch    86, train loss 0.001068, train error 0.00,  test loss 1.303943, test error 24.60\n",
            "Epoch    87, train loss 0.001068, train error 0.00,  test loss 1.304001, test error 24.60\n",
            "Epoch    88, train loss 0.001067, train error 0.00,  test loss 1.304069, test error 24.60\n",
            "Epoch    89, train loss 0.001067, train error 0.00,  test loss 1.304147, test error 24.60\n",
            "Epoch    90, train loss 0.001067, train error 0.00,  test loss 1.304184, test error 24.60\n",
            "Epoch    91, train loss 0.001066, train error 0.00,  test loss 1.304211, test error 24.60\n",
            "Epoch    92, train loss 0.001066, train error 0.00,  test loss 1.304248, test error 24.60\n",
            "Epoch    93, train loss 0.001066, train error 0.00,  test loss 1.304278, test error 24.60\n",
            "Epoch    94, train loss 0.001066, train error 0.00,  test loss 1.304309, test error 24.60\n",
            "Epoch    95, train loss 0.001065, train error 0.00,  test loss 1.304345, test error 24.60\n",
            "Epoch    96, train loss 0.001065, train error 0.00,  test loss 1.304384, test error 24.60\n",
            "Epoch    97, train loss 0.001065, train error 0.00,  test loss 1.304414, test error 24.60\n",
            "Epoch    98, train loss 0.001065, train error 0.00,  test loss 1.304442, test error 24.60\n",
            "Epoch    99, train loss 0.001064, train error 0.00,  test loss 1.304474, test error 24.60\n"
          ]
        }
      ],
      "source": [
        "# choose cross entropy loss function (equation 5.24)\n",
        "loss_function = torch.nn.CrossEntropyLoss()\n",
        "# construct SGD optimizer and initialize learning rate and momentum\n",
        "optimizer = torch.optim.SGD(model.parameters(), lr = 0.18, momentum=0.9)\n",
        "# object that decreases learning rate by half every 10 epochs\n",
        "scheduler = StepLR(optimizer, step_size=10, gamma=0.5)\n",
        "x_train = torch.tensor(data['x'].astype('float32'))\n",
        "y_train = torch.tensor(data['y'].transpose().astype('int64'))\n",
        "x_test= torch.tensor(data['x_test'].astype('float32'))\n",
        "y_test = torch.tensor(data['y_test'].astype('int64'))\n",
        "\n",
        "# load the data into a class that creates the batches\n",
        "data_loader = DataLoader(TensorDataset(x_train,y_train), batch_size=100, shuffle=True, worker_init_fn=np.random.seed(1))\n",
        "\n",
        "# Initialize model weights\n",
        "model.apply(weights_init)\n",
        "\n",
        "# loop over the dataset n_epoch times\n",
        "n_epoch = 100\n",
        "# store the loss and the % correct at each epoch\n",
        "losses_train = np.zeros((n_epoch))\n",
        "errors_train = np.zeros((n_epoch))\n",
        "losses_test = np.zeros((n_epoch))\n",
        "errors_test = np.zeros((n_epoch))\n",
        "\n",
        "for epoch in range(n_epoch):\n",
        "  # loop over batches\n",
        "  for i, batch in enumerate(data_loader):\n",
        "    # retrieve inputs and labels for this batch\n",
        "    x_batch, y_batch = batch\n",
        "    # zero the parameter gradients\n",
        "    optimizer.zero_grad()\n",
        "    # forward pass -- calculate model output\n",
        "    pred = model(x_batch)\n",
        "    # compute the loss\n",
        "    loss = loss_function(pred, y_batch)\n",
        "    # backward pass\n",
        "    loss.backward()\n",
        "    # SGD update\n",
        "    optimizer.step()\n",
        "\n",
        "  # Run whole dataset to get statistics -- normally wouldn't do this\n",
        "  pred_train = model(x_train)\n",
        "  pred_test = model(x_test)\n",
        "  _, predicted_train_class = torch.max(pred_train.data, 1)\n",
        "  _, predicted_test_class = torch.max(pred_test.data, 1)\n",
        "  errors_train[epoch] = 100 - 100 * (predicted_train_class == y_train).float().sum() / len(y_train)\n",
        "  errors_test[epoch]= 100 - 100 * (predicted_test_class == y_test).float().sum() / len(y_test)\n",
        "  losses_train[epoch] = loss_function(pred_train, y_train).item()\n",
        "  losses_test[epoch]= loss_function(pred_test, y_test).item()\n",
        "  print(f'Epoch {epoch:5d}, train loss {losses_train[epoch]:.6f}, train error {errors_train[epoch]:3.2f},  test loss {losses_test[epoch]:.6f}, test error {errors_test[epoch]:3.2f}')\n",
        "\n",
        "  # tell scheduler to consider updating learning rate\n",
        "  scheduler.step()"
      ]
    },
    {
      "cell_type": "code",
      "execution_count": 7,
      "metadata": {
        "id": "yI-l6kA_EH9G",
        "colab": {
          "base_uri": "https://localhost:8080/",
          "height": 927
        },
        "outputId": "e065f0f3-2dab-4590-fa6a-1c7ae3a70a86"
      },
      "outputs": [
        {
          "output_type": "display_data",
          "data": {
            "text/plain": [
              "<Figure size 640x480 with 1 Axes>"
            ],
            "image/png": "[encoded data removed]"
          },
          "metadata": {}
        },
        {
          "output_type": "display_data",
          "data": {
            "text/plain": [
              "<Figure size 640x480 with 1 Axes>"
            ],
            "image/png": "[encoded data removed]"
          },
          "metadata": {}
        }
      ],
      "source": [
        "# Plot the results\n",
        "fig, ax = plt.subplots()\n",
        "ax.plot(errors_train,'r-',label='train')\n",
        "ax.plot(errors_test,'b-',label='test')\n",
        "ax.set_ylim(0,100); ax.set_xlim(0,n_epoch)\n",
        "ax.set_xlabel('Epoch'); ax.set_ylabel('Error')\n",
        "ax.set_title('TrainError %3.2f, Test Error %3.2f'%(errors_train[-1],errors_test[-1]))\n",
        "ax.legend()\n",
        "plt.show()\n",
        "\n",
        "# Plot the results\n",
        "fig, ax = plt.subplots()\n",
        "ax.plot(losses_train,'r-',label='train')\n",
        "ax.plot(losses_test,'b-',label='test')\n",
        "ax.set_xlim(0,n_epoch)\n",
        "ax.set_xlabel('Epoch'); ax.set_ylabel('Loss')\n",
        "ax.set_title('Train loss %3.2f, Test loss %3.2f'%(losses_train[-1],losses_test[-1]))\n",
        "ax.legend()\n",
        "plt.show()"
      ]
    },
    {
      "cell_type": "markdown",
      "metadata": {
        "id": "q-yT6re6GZS4"
      },
      "source": [
        "**TO DO**\n",
        "\n",
        "Play with the model -- try changing the number of layers, hidden units, learning rate, batch size, momentum or anything else you like.  See if you can improve the test results.\n",
        "\n",
        "Is it a good idea to optimize the hyperparameters in this way?  Will the final result be a good estimate of the true test performance?"
      ]
    },
    {
      "cell_type": "markdown",
      "source": [
        "What I changed:\n",
        "- hidden units from 100 to 200.\n",
        "- added another layer\n",
        "- changed learning rate to 0.18\n",
        "- changed number of epochs to 100\n",
        "-------------------------------------\n",
        "- Original Results:\n",
        "  - Original final training loss: 0.066997\n",
        "  - Original final training error: 0.07\n",
        "  - Original final testing loss: 1.328853\n",
        "  - Original final testing error: 37.80\n",
        "-----------------------------------\n",
        "- New Results:\n",
        "  - New final training loss: 0.001064\n",
        "  - New final training error: 0.00\n",
        "  - New final testing loss: 1.304474\n",
        "  - New final testing error: 24.60\n",
        "\n",
        "This is an OK way of optimizing the hyperparamters, since we can see what is changing along with the changed hyperparamters, but can be very time consuming."
      ],
      "metadata": {
        "id": "Ws8fPEnz_2g4"
      }
    }
  ],
  "metadata": {
    "accelerator": "GPU",
    "colab": {
      "gpuType": "T4",
      "provenance": []
    },
    "kernelspec": {
      "display_name": "Python 3",
      "name": "python3"
    },
    "language_info": {
      "name": "python"
    }
  },
  "nbformat": 4,
  "nbformat_minor": 0
}